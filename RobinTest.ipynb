{
 "cells": [
  {
   "cell_type": "code",
   "execution_count": 1,
   "metadata": {},
   "outputs": [],
   "source": [
    "from Robinhood import Robinhood\n",
    "import json"
   ]
  },
  {
   "cell_type": "code",
   "execution_count": 2,
   "metadata": {},
   "outputs": [],
   "source": [
    "with open(\"/home/hanghang/robin_un\",\"r\") as f:\n",
    "    robin_un = f.read()\n",
    "with open(\"/home/hanghang/robin_pd\",\"r\") as f:\n",
    "    robin_pd = f.read()"
   ]
  },
  {
   "cell_type": "code",
   "execution_count": 3,
   "metadata": {},
   "outputs": [
    {
     "data": {
      "text/plain": [
       "True"
      ]
     },
     "execution_count": 3,
     "metadata": {},
     "output_type": "execute_result"
    }
   ],
   "source": [
    "trader = Robinhood()\n",
    "trader.login(robin_un,robin_pd)"
   ]
  },
  {
   "cell_type": "code",
   "execution_count": 4,
   "metadata": {},
   "outputs": [],
   "source": [
    "from Robinhood.Order import Order"
   ]
  },
  {
   "cell_type": "code",
   "execution_count": 5,
   "metadata": {},
   "outputs": [],
   "source": [
    "wl = trader.get_watch_list('Default')"
   ]
  },
  {
   "cell_type": "code",
   "execution_count": 7,
   "metadata": {},
   "outputs": [
    {
     "data": {
      "text/plain": [
       "<Robinhood.WatchList.WatchList at 0x7ffb3c143e80>"
      ]
     },
     "execution_count": 7,
     "metadata": {},
     "output_type": "execute_result"
    }
   ],
   "source": [
    "trader.create_watch_list(\"Hanghang\")"
   ]
  },
  {
   "cell_type": "code",
   "execution_count": 8,
   "metadata": {},
   "outputs": [],
   "source": [
    "x = _"
   ]
  },
  {
   "cell_type": "code",
   "execution_count": 10,
   "metadata": {},
   "outputs": [],
   "source": [
    "x.add(\"GGG\",\"OOMA\")"
   ]
  },
  {
   "cell_type": "code",
   "execution_count": 9,
   "metadata": {},
   "outputs": [
    {
     "data": {
      "text/plain": [
       "{'detail': 'Order cannot be cancelled at this time.'}"
      ]
     },
     "execution_count": 9,
     "metadata": {},
     "output_type": "execute_result"
    }
   ],
   "source": [
    "oh[0].cancel()"
   ]
  },
  {
   "cell_type": "code",
   "execution_count": 11,
   "metadata": {
    "scrolled": true
   },
   "outputs": [
    {
     "data": {
      "text/plain": [
       "{'account': 'https://api.robinhood.com/accounts/5RW54978/',\n",
       " 'average_price': '108.19900000',\n",
       " 'cancel': None,\n",
       " 'created_at': '2017-12-08T15:38:24.033503Z',\n",
       " 'cumulative_quantity': '2.00000',\n",
       " 'executions': [{'id': '47383323-73de-4c3d-ba76-781c0f4e068f',\n",
       "   'price': '108.19900000',\n",
       "   'quantity': '2.00000',\n",
       "   'settlement_date': '2017-12-12',\n",
       "   'timestamp': '2017-12-08T15:38:24.262000Z'}],\n",
       " 'extended_hours': False,\n",
       " 'fees': '0.00',\n",
       " 'id': 'a5cd5da5-7bad-4f73-b1ec-5930fed1128f',\n",
       " 'instrument': 'https://api.robinhood.com/instruments/45f09493-e24c-4c11-926c-1a3ad0df7c0b/',\n",
       " 'last_transaction_at': '2017-12-08T15:38:24.262000Z',\n",
       " 'override_day_trade_checks': False,\n",
       " 'override_dtbp_checks': False,\n",
       " 'position': 'https://api.robinhood.com/accounts/5RW54978/positions/45f09493-e24c-4c11-926c-1a3ad0df7c0b/',\n",
       " 'price': '113.40000000',\n",
       " 'quantity': '2.00000',\n",
       " 'ref_id': None,\n",
       " 'reject_reason': None,\n",
       " 'side': 'buy',\n",
       " 'state': 'filled',\n",
       " 'stop_price': None,\n",
       " 'time_in_force': 'gfd',\n",
       " 'trigger': 'immediate',\n",
       " 'type': 'market',\n",
       " 'updated_at': '2017-12-08T15:38:24.406248Z',\n",
       " 'url': 'https://api.robinhood.com/orders/a5cd5da5-7bad-4f73-b1ec-5930fed1128f/'}"
      ]
     },
     "execution_count": 11,
     "metadata": {},
     "output_type": "execute_result"
    }
   ],
   "source": [
    "oh[32].check()"
   ]
  },
  {
   "cell_type": "code",
   "execution_count": 13,
   "metadata": {
    "collapsed": true
   },
   "outputs": [],
   "source": [
    "brkb = trader.instruments(\"BRK.B\")[0]"
   ]
  },
  {
   "cell_type": "code",
   "execution_count": 31,
   "metadata": {},
   "outputs": [],
   "source": [
    "rq = trader.session.get('https://api.robinhood.com/watchlists/',data = {'name':\"Default\"})"
   ]
  },
  {
   "cell_type": "code",
   "execution_count": 32,
   "metadata": {},
   "outputs": [
    {
     "data": {
      "text/plain": [
       "{'next': None,\n",
       " 'previous': None,\n",
       " 'results': [{'name': 'Default',\n",
       "   'url': 'https://api.robinhood.com/watchlists/Default/',\n",
       "   'user': 'https://api.robinhood.com/user/'}]}"
      ]
     },
     "execution_count": 32,
     "metadata": {},
     "output_type": "execute_result"
    }
   ],
   "source": [
    "json.loads(rq.text)"
   ]
  },
  {
   "cell_type": "code",
   "execution_count": 33,
   "metadata": {
    "collapsed": true
   },
   "outputs": [],
   "source": [
    "rq1 = trader.session.get('https://api.robinhood.com/watchlists/Default/')"
   ]
  },
  {
   "cell_type": "code",
   "execution_count": 38,
   "metadata": {},
   "outputs": [
    {
     "data": {
      "text/plain": [
       "[]"
      ]
     },
     "execution_count": 38,
     "metadata": {},
     "output_type": "execute_result"
    }
   ],
   "source": [
    "[1,3,54,6][32:]"
   ]
  },
  {
   "cell_type": "code",
   "execution_count": 41,
   "metadata": {},
   "outputs": [
    {
     "data": {
      "text/plain": [
       "{'next': None,\n",
       " 'previous': None,\n",
       " 'results': [{'created_at': '2017-07-27T01:18:26.222858Z',\n",
       "   'instrument': 'https://api.robinhood.com/instruments/5bde96fd-f072-49f4-97c1-ce4494443201/',\n",
       "   'url': 'https://api.robinhood.com/watchlists/Default/5bde96fd-f072-49f4-97c1-ce4494443201/',\n",
       "   'watchlist': 'https://api.robinhood.com/watchlists/Default/'},\n",
       "  {'created_at': '2017-07-27T01:16:19.946774Z',\n",
       "   'instrument': 'https://api.robinhood.com/instruments/6dd2e46c-e820-4632-9d1e-d9c53770833d/',\n",
       "   'url': 'https://api.robinhood.com/watchlists/Default/6dd2e46c-e820-4632-9d1e-d9c53770833d/',\n",
       "   'watchlist': 'https://api.robinhood.com/watchlists/Default/'},\n",
       "  {'created_at': '2017-04-18T16:16:13.903020Z',\n",
       "   'instrument': 'https://api.robinhood.com/instruments/7ef32833-3af6-4312-8d18-52a39240cf51/',\n",
       "   'url': 'https://api.robinhood.com/watchlists/Default/7ef32833-3af6-4312-8d18-52a39240cf51/',\n",
       "   'watchlist': 'https://api.robinhood.com/watchlists/Default/'},\n",
       "  {'created_at': '2017-03-22T17:04:45.857795Z',\n",
       "   'instrument': 'https://api.robinhood.com/instruments/2fcedaf0-b9ec-4c73-bce2-25992430289c/',\n",
       "   'url': 'https://api.robinhood.com/watchlists/Default/2fcedaf0-b9ec-4c73-bce2-25992430289c/',\n",
       "   'watchlist': 'https://api.robinhood.com/watchlists/Default/'},\n",
       "  {'created_at': '2017-07-27T01:19:08.014876Z',\n",
       "   'instrument': 'https://api.robinhood.com/instruments/8ca3ac74-7423-4393-84a3-bab828abe9cb/',\n",
       "   'url': 'https://api.robinhood.com/watchlists/Default/8ca3ac74-7423-4393-84a3-bab828abe9cb/',\n",
       "   'watchlist': 'https://api.robinhood.com/watchlists/Default/'},\n",
       "  {'created_at': '2016-12-12T05:11:00.971827Z',\n",
       "   'instrument': 'https://api.robinhood.com/instruments/ae7f719c-ba1a-4207-8d94-af40fb7310f8/',\n",
       "   'url': 'https://api.robinhood.com/watchlists/Default/ae7f719c-ba1a-4207-8d94-af40fb7310f8/',\n",
       "   'watchlist': 'https://api.robinhood.com/watchlists/Default/'},\n",
       "  {'created_at': '2017-04-12T15:15:09.043523Z',\n",
       "   'instrument': 'https://api.robinhood.com/instruments/b2e06903-5c44-46a4-bd42-2a696f9d68e1/',\n",
       "   'url': 'https://api.robinhood.com/watchlists/Default/b2e06903-5c44-46a4-bd42-2a696f9d68e1/',\n",
       "   'watchlist': 'https://api.robinhood.com/watchlists/Default/'},\n",
       "  {'created_at': '2017-04-06T14:29:18.019033Z',\n",
       "   'instrument': 'https://api.robinhood.com/instruments/d318625c-2e19-495c-ab2a-b465cc1a881b/',\n",
       "   'url': 'https://api.robinhood.com/watchlists/Default/d318625c-2e19-495c-ab2a-b465cc1a881b/',\n",
       "   'watchlist': 'https://api.robinhood.com/watchlists/Default/'},\n",
       "  {'created_at': '2017-04-06T14:29:05.535133Z',\n",
       "   'instrument': 'https://api.robinhood.com/instruments/1e513292-5926-4dc4-8c3d-4af6b5836704/',\n",
       "   'url': 'https://api.robinhood.com/watchlists/Default/1e513292-5926-4dc4-8c3d-4af6b5836704/',\n",
       "   'watchlist': 'https://api.robinhood.com/watchlists/Default/'},\n",
       "  {'created_at': '2017-04-25T20:19:14.942601Z',\n",
       "   'instrument': 'https://api.robinhood.com/instruments/4a4bf458-6a5c-4f74-9c5d-1a4b5b08482e/',\n",
       "   'url': 'https://api.robinhood.com/watchlists/Default/4a4bf458-6a5c-4f74-9c5d-1a4b5b08482e/',\n",
       "   'watchlist': 'https://api.robinhood.com/watchlists/Default/'},\n",
       "  {'created_at': '2017-03-29T16:59:06.285418Z',\n",
       "   'instrument': 'https://api.robinhood.com/instruments/fc14b5ba-3f33-4f76-9e76-097d2c7a0ee0/',\n",
       "   'url': 'https://api.robinhood.com/watchlists/Default/fc14b5ba-3f33-4f76-9e76-097d2c7a0ee0/',\n",
       "   'watchlist': 'https://api.robinhood.com/watchlists/Default/'},\n",
       "  {'created_at': '2017-03-29T16:59:13.992118Z',\n",
       "   'instrument': 'https://api.robinhood.com/instruments/188d5f81-ec62-4262-a22e-1d05641989d9/',\n",
       "   'url': 'https://api.robinhood.com/watchlists/Default/188d5f81-ec62-4262-a22e-1d05641989d9/',\n",
       "   'watchlist': 'https://api.robinhood.com/watchlists/Default/'},\n",
       "  {'created_at': '2017-03-29T16:59:23.923101Z',\n",
       "   'instrument': 'https://api.robinhood.com/instruments/a1b52314-b452-4246-a3de-82d109ee4a42/',\n",
       "   'url': 'https://api.robinhood.com/watchlists/Default/a1b52314-b452-4246-a3de-82d109ee4a42/',\n",
       "   'watchlist': 'https://api.robinhood.com/watchlists/Default/'},\n",
       "  {'created_at': '2017-03-29T16:59:33.167480Z',\n",
       "   'instrument': 'https://api.robinhood.com/instruments/5b9cadca-683a-4cf9-b9ae-329bf5fedf88/',\n",
       "   'url': 'https://api.robinhood.com/watchlists/Default/5b9cadca-683a-4cf9-b9ae-329bf5fedf88/',\n",
       "   'watchlist': 'https://api.robinhood.com/watchlists/Default/'},\n",
       "  {'created_at': '2017-03-22T17:04:54.513720Z',\n",
       "   'instrument': 'https://api.robinhood.com/instruments/4a8d654d-09f0-4152-95b4-213b7907e703/',\n",
       "   'url': 'https://api.robinhood.com/watchlists/Default/4a8d654d-09f0-4152-95b4-213b7907e703/',\n",
       "   'watchlist': 'https://api.robinhood.com/watchlists/Default/'},\n",
       "  {'created_at': '2017-03-14T13:57:30.837818Z',\n",
       "   'instrument': 'https://api.robinhood.com/instruments/6390d8af-27a8-4768-b483-c4f7abd1f602/',\n",
       "   'url': 'https://api.robinhood.com/watchlists/Default/6390d8af-27a8-4768-b483-c4f7abd1f602/',\n",
       "   'watchlist': 'https://api.robinhood.com/watchlists/Default/'},\n",
       "  {'created_at': '2017-03-27T16:23:54.343768Z',\n",
       "   'instrument': 'https://api.robinhood.com/instruments/90999f47-19d4-4bdf-91d7-2bf3733a3fcf/',\n",
       "   'url': 'https://api.robinhood.com/watchlists/Default/90999f47-19d4-4bdf-91d7-2bf3733a3fcf/',\n",
       "   'watchlist': 'https://api.robinhood.com/watchlists/Default/'},\n",
       "  {'created_at': '2016-12-03T06:06:37.458514Z',\n",
       "   'instrument': 'https://api.robinhood.com/instruments/43c1172a-9130-420a-ac9b-b01a6ff5dd54/',\n",
       "   'url': 'https://api.robinhood.com/watchlists/Default/43c1172a-9130-420a-ac9b-b01a6ff5dd54/',\n",
       "   'watchlist': 'https://api.robinhood.com/watchlists/Default/'},\n",
       "  {'created_at': '2017-03-02T15:57:26.548294Z',\n",
       "   'instrument': 'https://api.robinhood.com/instruments/c85e2a69-6f52-441a-be25-d36b98153dd4/',\n",
       "   'url': 'https://api.robinhood.com/watchlists/Default/c85e2a69-6f52-441a-be25-d36b98153dd4/',\n",
       "   'watchlist': 'https://api.robinhood.com/watchlists/Default/'},\n",
       "  {'created_at': '2017-03-02T15:42:18.839203Z',\n",
       "   'instrument': 'https://api.robinhood.com/instruments/f9f8da2c-204d-4356-81a5-e417b8121b1c/',\n",
       "   'url': 'https://api.robinhood.com/watchlists/Default/f9f8da2c-204d-4356-81a5-e417b8121b1c/',\n",
       "   'watchlist': 'https://api.robinhood.com/watchlists/Default/'},\n",
       "  {'created_at': '2017-02-06T16:26:50.869008Z',\n",
       "   'instrument': 'https://api.robinhood.com/instruments/54e96481-1912-4b9a-ac2c-3aee5e7e7709/',\n",
       "   'url': 'https://api.robinhood.com/watchlists/Default/54e96481-1912-4b9a-ac2c-3aee5e7e7709/',\n",
       "   'watchlist': 'https://api.robinhood.com/watchlists/Default/'},\n",
       "  {'created_at': '2016-11-29T04:20:03.701897Z',\n",
       "   'instrument': 'https://api.robinhood.com/instruments/fdf46795-2a81-4506-880f-514c8010c163/',\n",
       "   'url': 'https://api.robinhood.com/watchlists/Default/fdf46795-2a81-4506-880f-514c8010c163/',\n",
       "   'watchlist': 'https://api.robinhood.com/watchlists/Default/'},\n",
       "  {'created_at': '2017-02-07T16:01:42.396023Z',\n",
       "   'instrument': 'https://api.robinhood.com/instruments/801a9500-8a61-4e1c-ae76-0beb4a135fb1/',\n",
       "   'url': 'https://api.robinhood.com/watchlists/Default/801a9500-8a61-4e1c-ae76-0beb4a135fb1/',\n",
       "   'watchlist': 'https://api.robinhood.com/watchlists/Default/'},\n",
       "  {'created_at': '2017-01-28T13:28:07.587944Z',\n",
       "   'instrument': 'https://api.robinhood.com/instruments/c3f8a5b3-4496-445b-bc74-85ae22027464/',\n",
       "   'url': 'https://api.robinhood.com/watchlists/Default/c3f8a5b3-4496-445b-bc74-85ae22027464/',\n",
       "   'watchlist': 'https://api.robinhood.com/watchlists/Default/'},\n",
       "  {'created_at': '2017-01-28T13:26:38.439386Z',\n",
       "   'instrument': 'https://api.robinhood.com/instruments/5b779adf-6feb-4c3a-953b-1c7cb8aee6ed/',\n",
       "   'url': 'https://api.robinhood.com/watchlists/Default/5b779adf-6feb-4c3a-953b-1c7cb8aee6ed/',\n",
       "   'watchlist': 'https://api.robinhood.com/watchlists/Default/'},\n",
       "  {'created_at': '2017-01-28T13:28:30.791098Z',\n",
       "   'instrument': 'https://api.robinhood.com/instruments/8a9fe49d-5d0a-4040-a19b-f3f4df44408f/',\n",
       "   'url': 'https://api.robinhood.com/watchlists/Default/8a9fe49d-5d0a-4040-a19b-f3f4df44408f/',\n",
       "   'watchlist': 'https://api.robinhood.com/watchlists/Default/'},\n",
       "  {'created_at': '2016-12-18T19:47:01.015277Z',\n",
       "   'instrument': 'https://api.robinhood.com/instruments/8c7c5452-f8fd-4714-842b-cf4b5007c989/',\n",
       "   'url': 'https://api.robinhood.com/watchlists/Default/8c7c5452-f8fd-4714-842b-cf4b5007c989/',\n",
       "   'watchlist': 'https://api.robinhood.com/watchlists/Default/'},\n",
       "  {'created_at': '2016-12-12T05:10:42.071277Z',\n",
       "   'instrument': 'https://api.robinhood.com/instruments/57b88101-046d-4553-99a1-7cc92a49d916/',\n",
       "   'url': 'https://api.robinhood.com/watchlists/Default/57b88101-046d-4553-99a1-7cc92a49d916/',\n",
       "   'watchlist': 'https://api.robinhood.com/watchlists/Default/'},\n",
       "  {'created_at': '2016-12-12T05:10:32.593136Z',\n",
       "   'instrument': 'https://api.robinhood.com/instruments/7de86af7-5071-456a-a7c5-efb45789c7a8/',\n",
       "   'url': 'https://api.robinhood.com/watchlists/Default/7de86af7-5071-456a-a7c5-efb45789c7a8/',\n",
       "   'watchlist': 'https://api.robinhood.com/watchlists/Default/'},\n",
       "  {'created_at': '2016-12-12T05:10:17.956733Z',\n",
       "   'instrument': 'https://api.robinhood.com/instruments/190f6793-a360-4faf-81b3-ee9ac48ec98f/',\n",
       "   'url': 'https://api.robinhood.com/watchlists/Default/190f6793-a360-4faf-81b3-ee9ac48ec98f/',\n",
       "   'watchlist': 'https://api.robinhood.com/watchlists/Default/'},\n",
       "  {'created_at': '2016-12-09T05:48:40.012475Z',\n",
       "   'instrument': 'https://api.robinhood.com/instruments/01f33471-51d9-4afe-850f-b5f13d58c459/',\n",
       "   'url': 'https://api.robinhood.com/watchlists/Default/01f33471-51d9-4afe-850f-b5f13d58c459/',\n",
       "   'watchlist': 'https://api.robinhood.com/watchlists/Default/'},\n",
       "  {'created_at': '2016-12-09T05:40:54.883437Z',\n",
       "   'instrument': 'https://api.robinhood.com/instruments/c7d1d0e4-473a-4271-bad6-e61eb6693666/',\n",
       "   'url': 'https://api.robinhood.com/watchlists/Default/c7d1d0e4-473a-4271-bad6-e61eb6693666/',\n",
       "   'watchlist': 'https://api.robinhood.com/watchlists/Default/'},\n",
       "  {'created_at': '2016-12-08T20:19:46.625404Z',\n",
       "   'instrument': 'https://api.robinhood.com/instruments/ae2e4ada-197d-42a4-825c-aff01cc3a8dd/',\n",
       "   'url': 'https://api.robinhood.com/watchlists/Default/ae2e4ada-197d-42a4-825c-aff01cc3a8dd/',\n",
       "   'watchlist': 'https://api.robinhood.com/watchlists/Default/'},\n",
       "  {'created_at': '2016-12-08T20:25:38.659177Z',\n",
       "   'instrument': 'https://api.robinhood.com/instruments/bb9a01df-5982-42d4-88db-8662f23cdab5/',\n",
       "   'url': 'https://api.robinhood.com/watchlists/Default/bb9a01df-5982-42d4-88db-8662f23cdab5/',\n",
       "   'watchlist': 'https://api.robinhood.com/watchlists/Default/'},\n",
       "  {'created_at': '2016-12-08T20:18:03.170487Z',\n",
       "   'instrument': 'https://api.robinhood.com/instruments/496d6d63-a93d-4693-a5b5-d1e0a72d854f/',\n",
       "   'url': 'https://api.robinhood.com/watchlists/Default/496d6d63-a93d-4693-a5b5-d1e0a72d854f/',\n",
       "   'watchlist': 'https://api.robinhood.com/watchlists/Default/'},\n",
       "  {'created_at': '2017-02-28T17:39:32.174635Z',\n",
       "   'instrument': 'https://api.robinhood.com/instruments/b060f19f-0d24-4bf2-bf8c-d57ba33993e5/',\n",
       "   'url': 'https://api.robinhood.com/watchlists/Default/b060f19f-0d24-4bf2-bf8c-d57ba33993e5/',\n",
       "   'watchlist': 'https://api.robinhood.com/watchlists/Default/'},\n",
       "  {'created_at': '2016-12-07T11:19:11.350246Z',\n",
       "   'instrument': 'https://api.robinhood.com/instruments/2b456f6a-3287-4757-abf9-327383d2c708/',\n",
       "   'url': 'https://api.robinhood.com/watchlists/Default/2b456f6a-3287-4757-abf9-327383d2c708/',\n",
       "   'watchlist': 'https://api.robinhood.com/watchlists/Default/'},\n",
       "  {'created_at': '2016-12-05T19:51:22.871495Z',\n",
       "   'instrument': 'https://api.robinhood.com/instruments/aa7e3b0b-fc04-4d2e-a986-e5c2e6f1b2fb/',\n",
       "   'url': 'https://api.robinhood.com/watchlists/Default/aa7e3b0b-fc04-4d2e-a986-e5c2e6f1b2fb/',\n",
       "   'watchlist': 'https://api.robinhood.com/watchlists/Default/'},\n",
       "  {'created_at': '2016-12-05T19:43:13.296366Z',\n",
       "   'instrument': 'https://api.robinhood.com/instruments/3ee7f4c5-5a23-4356-9479-b7ef93a04903/',\n",
       "   'url': 'https://api.robinhood.com/watchlists/Default/3ee7f4c5-5a23-4356-9479-b7ef93a04903/',\n",
       "   'watchlist': 'https://api.robinhood.com/watchlists/Default/'},\n",
       "  {'created_at': '2016-11-30T02:46:26.385854Z',\n",
       "   'instrument': 'https://api.robinhood.com/instruments/81733743-965a-4d93-b87a-6973cb9efd34/',\n",
       "   'url': 'https://api.robinhood.com/watchlists/Default/81733743-965a-4d93-b87a-6973cb9efd34/',\n",
       "   'watchlist': 'https://api.robinhood.com/watchlists/Default/'},\n",
       "  {'created_at': '2016-11-29T04:20:03.437217Z',\n",
       "   'instrument': 'https://api.robinhood.com/instruments/ebab2398-028d-4939-9f1d-13bf38f81c50/',\n",
       "   'url': 'https://api.robinhood.com/watchlists/Default/ebab2398-028d-4939-9f1d-13bf38f81c50/',\n",
       "   'watchlist': 'https://api.robinhood.com/watchlists/Default/'},\n",
       "  {'created_at': '2016-11-29T04:20:03.564981Z',\n",
       "   'instrument': 'https://api.robinhood.com/instruments/18c7a7ad-3527-47b4-84b4-ce4db0106531/',\n",
       "   'url': 'https://api.robinhood.com/watchlists/Default/18c7a7ad-3527-47b4-84b4-ce4db0106531/',\n",
       "   'watchlist': 'https://api.robinhood.com/watchlists/Default/'},\n",
       "  {'created_at': '2016-11-29T04:20:03.596311Z',\n",
       "   'instrument': 'https://api.robinhood.com/instruments/6df56bd0-0bf2-44ab-8875-f94fd8526942/',\n",
       "   'url': 'https://api.robinhood.com/watchlists/Default/6df56bd0-0bf2-44ab-8875-f94fd8526942/',\n",
       "   'watchlist': 'https://api.robinhood.com/watchlists/Default/'},\n",
       "  {'created_at': '2017-04-25T20:18:47.458623Z',\n",
       "   'instrument': 'https://api.robinhood.com/instruments/c0e03886-2f53-41a4-ae78-212650ce577f/',\n",
       "   'url': 'https://api.robinhood.com/watchlists/Default/c0e03886-2f53-41a4-ae78-212650ce577f/',\n",
       "   'watchlist': 'https://api.robinhood.com/watchlists/Default/'},\n",
       "  {'created_at': '2017-06-27T13:49:23.110774Z',\n",
       "   'instrument': 'https://api.robinhood.com/instruments/0dd811b3-7047-448d-96e0-7bf6ee4cfe45/',\n",
       "   'url': 'https://api.robinhood.com/watchlists/Default/0dd811b3-7047-448d-96e0-7bf6ee4cfe45/',\n",
       "   'watchlist': 'https://api.robinhood.com/watchlists/Default/'},\n",
       "  {'created_at': '2017-07-06T17:32:22.013236Z',\n",
       "   'instrument': 'https://api.robinhood.com/instruments/1db76c1d-74b6-46a3-a1e5-c58ab489d5c2/',\n",
       "   'url': 'https://api.robinhood.com/watchlists/Default/1db76c1d-74b6-46a3-a1e5-c58ab489d5c2/',\n",
       "   'watchlist': 'https://api.robinhood.com/watchlists/Default/'},\n",
       "  {'created_at': '2017-08-04T17:26:37.443289Z',\n",
       "   'instrument': 'https://api.robinhood.com/instruments/aec9d597-9fdb-4393-af8b-da2019e2c179/',\n",
       "   'url': 'https://api.robinhood.com/watchlists/Default/aec9d597-9fdb-4393-af8b-da2019e2c179/',\n",
       "   'watchlist': 'https://api.robinhood.com/watchlists/Default/'},\n",
       "  {'created_at': '2017-08-07T14:19:16.158145Z',\n",
       "   'instrument': 'https://api.robinhood.com/instruments/78bde958-d99c-40a8-90c5-904fd466977a/',\n",
       "   'url': 'https://api.robinhood.com/watchlists/Default/78bde958-d99c-40a8-90c5-904fd466977a/',\n",
       "   'watchlist': 'https://api.robinhood.com/watchlists/Default/'},\n",
       "  {'created_at': '2017-09-07T13:43:27.292968Z',\n",
       "   'instrument': 'https://api.robinhood.com/instruments/45f09493-e24c-4c11-926c-1a3ad0df7c0b/',\n",
       "   'url': 'https://api.robinhood.com/watchlists/Default/45f09493-e24c-4c11-926c-1a3ad0df7c0b/',\n",
       "   'watchlist': 'https://api.robinhood.com/watchlists/Default/'},\n",
       "  {'created_at': '2017-09-10T05:08:08.238050Z',\n",
       "   'instrument': 'https://api.robinhood.com/instruments/a4ecd608-e7b4-4ff3-afa5-f77ae7632dfb/',\n",
       "   'url': 'https://api.robinhood.com/watchlists/Default/a4ecd608-e7b4-4ff3-afa5-f77ae7632dfb/',\n",
       "   'watchlist': 'https://api.robinhood.com/watchlists/Default/'},\n",
       "  {'created_at': '2017-09-18T04:37:52.445684Z',\n",
       "   'instrument': 'https://api.robinhood.com/instruments/940fc3f5-1db5-4fed-b452-f3a2e4562b5f/',\n",
       "   'url': 'https://api.robinhood.com/watchlists/Default/940fc3f5-1db5-4fed-b452-f3a2e4562b5f/',\n",
       "   'watchlist': 'https://api.robinhood.com/watchlists/Default/'},\n",
       "  {'created_at': '2017-10-16T12:22:10.456188Z',\n",
       "   'instrument': 'https://api.robinhood.com/instruments/381545dd-92ed-4d20-9b67-6b664f13fe31/',\n",
       "   'url': 'https://api.robinhood.com/watchlists/Default/381545dd-92ed-4d20-9b67-6b664f13fe31/',\n",
       "   'watchlist': 'https://api.robinhood.com/watchlists/Default/'},\n",
       "  {'created_at': '2017-10-17T17:14:42.495422Z',\n",
       "   'instrument': 'https://api.robinhood.com/instruments/8236920b-ec5c-4033-9ea3-ea10d2ab7ed4/',\n",
       "   'url': 'https://api.robinhood.com/watchlists/Default/8236920b-ec5c-4033-9ea3-ea10d2ab7ed4/',\n",
       "   'watchlist': 'https://api.robinhood.com/watchlists/Default/'},\n",
       "  {'created_at': '2017-10-17T17:15:40.922514Z',\n",
       "   'instrument': 'https://api.robinhood.com/instruments/96f578e1-0728-4672-97e1-023fc7fd4953/',\n",
       "   'url': 'https://api.robinhood.com/watchlists/Default/96f578e1-0728-4672-97e1-023fc7fd4953/',\n",
       "   'watchlist': 'https://api.robinhood.com/watchlists/Default/'},\n",
       "  {'created_at': '2017-10-19T14:57:47.137456Z',\n",
       "   'instrument': 'https://api.robinhood.com/instruments/11df6cea-5aa8-4f70-b13c-1b0321f93f7e/',\n",
       "   'url': 'https://api.robinhood.com/watchlists/Default/11df6cea-5aa8-4f70-b13c-1b0321f93f7e/',\n",
       "   'watchlist': 'https://api.robinhood.com/watchlists/Default/'},\n",
       "  {'created_at': '2017-10-26T15:38:09.126064Z',\n",
       "   'instrument': 'https://api.robinhood.com/instruments/8de895e1-2836-4a5a-b6c7-f5e8232fd2ae/',\n",
       "   'url': 'https://api.robinhood.com/watchlists/Default/8de895e1-2836-4a5a-b6c7-f5e8232fd2ae/',\n",
       "   'watchlist': 'https://api.robinhood.com/watchlists/Default/'},\n",
       "  {'created_at': '2017-10-26T16:41:16.415109Z',\n",
       "   'instrument': 'https://api.robinhood.com/instruments/8ff64d6f-e328-499c-815d-7a024c3fe6ef/',\n",
       "   'url': 'https://api.robinhood.com/watchlists/Default/8ff64d6f-e328-499c-815d-7a024c3fe6ef/',\n",
       "   'watchlist': 'https://api.robinhood.com/watchlists/Default/'},\n",
       "  {'created_at': '2017-10-26T19:18:29.895791Z',\n",
       "   'instrument': 'https://api.robinhood.com/instruments/d3aa8b83-b8a3-4a86-acb2-0c22061cd7e8/',\n",
       "   'url': 'https://api.robinhood.com/watchlists/Default/d3aa8b83-b8a3-4a86-acb2-0c22061cd7e8/',\n",
       "   'watchlist': 'https://api.robinhood.com/watchlists/Default/'},\n",
       "  {'created_at': '2017-11-09T04:52:12.831116Z',\n",
       "   'instrument': 'https://api.robinhood.com/instruments/809adc21-ef75-4c3d-9c0e-5f9a167f235b/',\n",
       "   'url': 'https://api.robinhood.com/watchlists/Default/809adc21-ef75-4c3d-9c0e-5f9a167f235b/',\n",
       "   'watchlist': 'https://api.robinhood.com/watchlists/Default/'},\n",
       "  {'created_at': '2017-11-13T11:58:38.367830Z',\n",
       "   'instrument': 'https://api.robinhood.com/instruments/bdc17e84-d73a-48fa-8e96-ea2f4ca6647f/',\n",
       "   'url': 'https://api.robinhood.com/watchlists/Default/bdc17e84-d73a-48fa-8e96-ea2f4ca6647f/',\n",
       "   'watchlist': 'https://api.robinhood.com/watchlists/Default/'},\n",
       "  {'created_at': '2017-11-16T15:10:20.671822Z',\n",
       "   'instrument': 'https://api.robinhood.com/instruments/28356967-fa97-4e30-9b0b-2bc0cc975e95/',\n",
       "   'url': 'https://api.robinhood.com/watchlists/Default/28356967-fa97-4e30-9b0b-2bc0cc975e95/',\n",
       "   'watchlist': 'https://api.robinhood.com/watchlists/Default/'},\n",
       "  {'created_at': '2017-11-16T15:10:35.598244Z',\n",
       "   'instrument': 'https://api.robinhood.com/instruments/a4f0cca4-79dc-4297-9c02-5bce1909cd4b/',\n",
       "   'url': 'https://api.robinhood.com/watchlists/Default/a4f0cca4-79dc-4297-9c02-5bce1909cd4b/',\n",
       "   'watchlist': 'https://api.robinhood.com/watchlists/Default/'},\n",
       "  {'created_at': '2017-12-01T16:29:50.176188Z',\n",
       "   'instrument': 'https://api.robinhood.com/instruments/75f435f0-0d44-44a4-bd14-ac2eba5badea/',\n",
       "   'url': 'https://api.robinhood.com/watchlists/Default/75f435f0-0d44-44a4-bd14-ac2eba5badea/',\n",
       "   'watchlist': 'https://api.robinhood.com/watchlists/Default/'}]}"
      ]
     },
     "execution_count": 41,
     "metadata": {},
     "output_type": "execute_result"
    }
   ],
   "source": [
    "json.loads(rq1.text)"
   ]
  },
  {
   "cell_type": "code",
   "execution_count": 10,
   "metadata": {},
   "outputs": [
    {
     "data": {
      "text/plain": [
       "{'bloomberg_unique': 'EQ0000000046314223',\n",
       " 'country': 'CN',\n",
       " 'day_trade_ratio': '0.2500',\n",
       " 'fundamentals': 'https://api.robinhood.com/fundamentals/YRD/',\n",
       " 'id': '78bde958-d99c-40a8-90c5-904fd466977a',\n",
       " 'list_date': '2015-12-18',\n",
       " 'maintenance_ratio': '0.4500',\n",
       " 'margin_initial_ratio': '0.5600',\n",
       " 'market': 'https://api.robinhood.com/markets/XNYS/',\n",
       " 'min_tick_size': None,\n",
       " 'name': 'Yirendai Ltd.',\n",
       " 'quote': 'https://api.robinhood.com/quotes/YRD/',\n",
       " 'simple_name': 'Yirendai',\n",
       " 'splits': 'https://api.robinhood.com/instruments/78bde958-d99c-40a8-90c5-904fd466977a/splits/',\n",
       " 'state': 'active',\n",
       " 'symbol': 'YRD',\n",
       " 'tradability': 'tradable',\n",
       " 'tradeable': True,\n",
       " 'type': 'adr',\n",
       " 'url': 'https://api.robinhood.com/instruments/78bde958-d99c-40a8-90c5-904fd466977a/'}"
      ]
     },
     "execution_count": 10,
     "metadata": {},
     "output_type": "execute_result"
    }
   ],
   "source": [
    "yrd"
   ]
  },
  {
   "cell_type": "code",
   "execution_count": 5,
   "metadata": {},
   "outputs": [],
   "source": [
    "rs = trader.place_stop_loss_buy_order(instrument=yrd,quantity=1,stop_price=44)"
   ]
  },
  {
   "cell_type": "code",
   "execution_count": 9,
   "metadata": {},
   "outputs": [
    {
     "data": {
      "text/plain": [
       "{'account': 'https://api.robinhood.com/accounts/5RW54978/',\n",
       " 'average_price': None,\n",
       " 'cancel': 'https://api.robinhood.com/orders/eb57c7ff-8f58-4eac-843d-56e67356ed65/cancel/',\n",
       " 'created_at': '2018-01-08T12:01:49.913492Z',\n",
       " 'cumulative_quantity': '0.00000',\n",
       " 'executions': [],\n",
       " 'extended_hours': False,\n",
       " 'fees': '0.00',\n",
       " 'id': 'eb57c7ff-8f58-4eac-843d-56e67356ed65',\n",
       " 'instrument': 'https://api.robinhood.com/instruments/78bde958-d99c-40a8-90c5-904fd466977a/',\n",
       " 'last_transaction_at': '2018-01-08T12:01:49.913492Z',\n",
       " 'override_day_trade_checks': False,\n",
       " 'override_dtbp_checks': False,\n",
       " 'position': 'https://api.robinhood.com/accounts/5RW54978/positions/78bde958-d99c-40a8-90c5-904fd466977a/',\n",
       " 'price': '44.00000000',\n",
       " 'quantity': '1.00000',\n",
       " 'ref_id': None,\n",
       " 'reject_reason': None,\n",
       " 'side': 'buy',\n",
       " 'state': 'unconfirmed',\n",
       " 'stop_price': '44.00000000',\n",
       " 'time_in_force': 'gtc',\n",
       " 'trigger': 'stop',\n",
       " 'type': 'market',\n",
       " 'updated_at': '2018-01-08T12:01:50.000650Z',\n",
       " 'url': 'https://api.robinhood.com/orders/eb57c7ff-8f58-4eac-843d-56e67356ed65/'}"
      ]
     },
     "execution_count": 9,
     "metadata": {},
     "output_type": "execute_result"
    }
   ],
   "source": [
    "json.loads(rs.text)"
   ]
  },
  {
   "cell_type": "code",
   "execution_count": 42,
   "metadata": {},
   "outputs": [],
   "source": [
    "vvv = trader.session.get('https://api.robinhood.com/instruments/5bde96fd-f072-49f4-97c1-ce4494443201/')"
   ]
  },
  {
   "cell_type": "code",
   "execution_count": 47,
   "metadata": {},
   "outputs": [
    {
     "data": {
      "text/plain": [
       "[['43.9099', '']]"
      ]
     },
     "execution_count": 47,
     "metadata": {},
     "output_type": "execute_result"
    }
   ],
   "source": [
    "trader.last_trade_price(\"YRD\")"
   ]
  }
 ],
 "metadata": {
  "kernelspec": {
   "display_name": "Python 3",
   "language": "python",
   "name": "python3"
  },
  "language_info": {
   "codemirror_mode": {
    "name": "ipython",
    "version": 3
   },
   "file_extension": ".py",
   "mimetype": "text/x-python",
   "name": "python",
   "nbconvert_exporter": "python",
   "pygments_lexer": "ipython3",
   "version": "3.6.1"
  }
 },
 "nbformat": 4,
 "nbformat_minor": 2
}
